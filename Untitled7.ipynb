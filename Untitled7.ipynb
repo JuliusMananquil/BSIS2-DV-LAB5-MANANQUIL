{
  "nbformat": 4,
  "nbformat_minor": 0,
  "metadata": {
    "colab": {
      "provenance": [],
      "authorship_tag": "ABX9TyOE7vNLZnpMACGnCqXAOsRD",
      "include_colab_link": true
    },
    "kernelspec": {
      "name": "python3",
      "display_name": "Python 3"
    },
    "language_info": {
      "name": "python"
    }
  },
  "cells": [
    {
      "cell_type": "markdown",
      "metadata": {
        "id": "view-in-github",
        "colab_type": "text"
      },
      "source": [
        "<a href=\"https://colab.research.google.com/github/JuliusMananquil/BSIS2-DV-LAB5-MANANQUIL/blob/main/Untitled7.ipynb\" target=\"_parent\"><img src=\"https://colab.research.google.com/assets/colab-badge.svg\" alt=\"Open In Colab\"/></a>"
      ]
    },
    {
      "cell_type": "code",
      "execution_count": 16,
      "metadata": {
        "colab": {
          "base_uri": "https://localhost:8080/"
        },
        "id": "O4rLbRfrc-4b",
        "outputId": "1e92d22d-c182-45a5-e8b6-c39980ad39cc"
      },
      "outputs": [
        {
          "output_type": "stream",
          "name": "stdout",
          "text": [
            "What is the temperature outside? : 30\n",
            "the temperature is bad today!\n",
            "you must stay inside!\n"
          ]
        }
      ],
      "source": [
        "temp = int(input(\"What is the temperature outside? : \"))\n",
        "\n",
        "if temp >= 30 and temp <= 0: \n",
        "  print(\"the temperature is bad today\") \n",
        "  print(\"can go outside!\") \n",
        "elif temp < 30 or temp > 0:\n",
        "  print(\"the temperature is bad today!\")\n",
        "  print(\"you must stay inside!\")\n",
        "\n",
        "#evaluates if temperature is less than 30 or greater than 0 \n",
        "#try to enter values less than 30 or greater than 0\n",
        "#it will print the desired output having a bad temperature"
      ]
    }
  ]
}